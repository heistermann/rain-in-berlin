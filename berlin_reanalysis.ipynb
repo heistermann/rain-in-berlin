{
 "cells": [
  {
   "cell_type": "markdown",
   "metadata": {},
   "source": [
    "## Radargestützte Niederschlagsschätzung: Fallstudie Berlin, 12.7.2018"
   ]
  },
  {
   "cell_type": "markdown",
   "metadata": {},
   "source": [
    "### Umgebung einrichten"
   ]
  },
  {
   "cell_type": "code",
   "execution_count": 1,
   "metadata": {},
   "outputs": [],
   "source": [
    "import wradlib\n",
    "import matplotlib.pyplot as plt\n",
    "import numpy as np\n",
    "import pandas as pd\n",
    "from scipy.spatial import KDTree\n",
    "import helpers\n",
    "import datetime as dt"
   ]
  },
  {
   "cell_type": "code",
   "execution_count": 2,
   "metadata": {},
   "outputs": [],
   "source": [
    "%matplotlib inline"
   ]
  },
  {
   "cell_type": "markdown",
   "metadata": {},
   "source": [
    "### Konfiguration"
   ]
  },
  {
   "cell_type": "code",
   "execution_count": 3,
   "metadata": {},
   "outputs": [],
   "source": [
    "tstart = \"2018-07-11 23:00:00\"\n",
    "tend = \"2018-07-12 23:00:00\"\n",
    "dxsrc = \"dx/raa00-dx_10392-%s-pro---bin\"\n",
    "dtimes = wradlib.util.from_to(tstart, tend, 300)"
   ]
  },
  {
   "cell_type": "code",
   "execution_count": 4,
   "metadata": {},
   "outputs": [],
   "source": [
    "site = (helpers.radars[\"pro\"][\"lon\"], helpers.radars[\"pro\"][\"lat\"], helpers.radars[\"pro\"][\"alt\"])\n",
    "r = helpers.specs_dx[\"r\"]\n",
    "az = helpers.specs_dx[\"az\"]"
   ]
  },
  {
   "cell_type": "code",
   "execution_count": 5,
   "metadata": {},
   "outputs": [],
   "source": [
    "# http://www.stadtentwicklung.berlin.de/service/gesetzestexte/de/download/geoinformation/koordinatenreferenzsysteme.pdf\n",
    "proj = wradlib.georef.epsg_to_osr(25833)"
   ]
  },
  {
   "cell_type": "code",
   "execution_count": 6,
   "metadata": {},
   "outputs": [],
   "source": [
    "dataset, inLayer = wradlib.io.open_vector(\"shapes/RBS_OD_ORT_1412.shp\")\n",
    "borders, keys = wradlib.georef.get_vector_coordinates(inLayer)\n",
    "bbox = inLayer.GetExtent()"
   ]
  },
  {
   "cell_type": "markdown",
   "metadata": {},
   "source": [
    "### Niederschlagsschreiber laden"
   ]
  },
  {
   "cell_type": "code",
   "execution_count": 7,
   "metadata": {},
   "outputs": [],
   "source": [
    "gauges = pd.read_csv(\"berlin_gauges.csv\", sep=\";\", thousands=r',', encoding=\"cp1252\", keep_default_na=False)\n",
    "gdata = pd.read_csv(\"berlin_gages_timeseries.csv\", sep=\";\", header=None)"
   ]
  },
  {
   "cell_type": "code",
   "execution_count": 8,
   "metadata": {},
   "outputs": [],
   "source": [
    "gauges.columns = [\"name\", \"x\", \"y\", \"veg\", \"flag\"]\n",
    "gdata.columns = [\"dtime\"] + [i for i in range(len(gauges))]"
   ]
  },
  {
   "cell_type": "code",
   "execution_count": 9,
   "metadata": {},
   "outputs": [],
   "source": [
    "gdata.dtime = pd.to_datetime(gdata.dtime, format=\"%d/%m/%Y %H:%M:%S\")\n",
    "gdata.dtime = gdata.dtime - dt.timedelta(seconds=3600*2)\n",
    "gdata = gdata.set_index(\"dtime\")"
   ]
  },
  {
   "cell_type": "code",
   "execution_count": 10,
   "metadata": {},
   "outputs": [
    {
     "ename": "KeyError",
     "evalue": "'the label [2018-07-12 23:00:00] is not in the [index]'",
     "output_type": "error",
     "traceback": [
      "\u001b[1;31m---------------------------------------------------------------------------\u001b[0m",
      "\u001b[1;31mKeyError\u001b[0m                                  Traceback (most recent call last)",
      "\u001b[1;32mC:\\Anaconda3\\envs\\WRADLIB\\lib\\site-packages\\pandas\\core\\indexing.py\u001b[0m in \u001b[0;36m_validate_key\u001b[1;34m(self, key, axis)\u001b[0m\n\u001b[0;32m   1789\u001b[0m                 \u001b[1;32mif\u001b[0m \u001b[1;32mnot\u001b[0m \u001b[0max\u001b[0m\u001b[1;33m.\u001b[0m\u001b[0mcontains\u001b[0m\u001b[1;33m(\u001b[0m\u001b[0mkey\u001b[0m\u001b[1;33m)\u001b[0m\u001b[1;33m:\u001b[0m\u001b[1;33m\u001b[0m\u001b[0m\n\u001b[1;32m-> 1790\u001b[1;33m                     \u001b[0merror\u001b[0m\u001b[1;33m(\u001b[0m\u001b[1;33m)\u001b[0m\u001b[1;33m\u001b[0m\u001b[0m\n\u001b[0m\u001b[0;32m   1791\u001b[0m             \u001b[1;32mexcept\u001b[0m \u001b[0mTypeError\u001b[0m \u001b[1;32mas\u001b[0m \u001b[0me\u001b[0m\u001b[1;33m:\u001b[0m\u001b[1;33m\u001b[0m\u001b[0m\n",
      "\u001b[1;32mC:\\Anaconda3\\envs\\WRADLIB\\lib\\site-packages\\pandas\\core\\indexing.py\u001b[0m in \u001b[0;36merror\u001b[1;34m()\u001b[0m\n\u001b[0;32m   1784\u001b[0m                                .format(key=key,\n\u001b[1;32m-> 1785\u001b[1;33m                                        axis=self.obj._get_axis_name(axis)))\n\u001b[0m\u001b[0;32m   1786\u001b[0m \u001b[1;33m\u001b[0m\u001b[0m\n",
      "\u001b[1;31mKeyError\u001b[0m: 'the label [2018-07-12 23:00:00] is not in the [index]'",
      "\nDuring handling of the above exception, another exception occurred:\n",
      "\u001b[1;31mKeyError\u001b[0m                                  Traceback (most recent call last)",
      "\u001b[1;32m<ipython-input-10-7f8ca1ffa140>\u001b[0m in \u001b[0;36m<module>\u001b[1;34m()\u001b[0m\n\u001b[1;32m----> 1\u001b[1;33m \u001b[0mgageprec\u001b[0m \u001b[1;33m=\u001b[0m \u001b[0mgdata\u001b[0m\u001b[1;33m.\u001b[0m\u001b[0mloc\u001b[0m\u001b[1;33m[\u001b[0m\u001b[0mtend\u001b[0m\u001b[1;33m]\u001b[0m \u001b[1;33m-\u001b[0m \u001b[0mgdata\u001b[0m\u001b[1;33m.\u001b[0m\u001b[0mloc\u001b[0m\u001b[1;33m[\u001b[0m\u001b[0mtstart\u001b[0m\u001b[1;33m]\u001b[0m\u001b[1;33m\u001b[0m\u001b[0m\n\u001b[0m",
      "\u001b[1;32mC:\\Anaconda3\\envs\\WRADLIB\\lib\\site-packages\\pandas\\core\\indexing.py\u001b[0m in \u001b[0;36m__getitem__\u001b[1;34m(self, key)\u001b[0m\n\u001b[0;32m   1476\u001b[0m \u001b[1;33m\u001b[0m\u001b[0m\n\u001b[0;32m   1477\u001b[0m             \u001b[0mmaybe_callable\u001b[0m \u001b[1;33m=\u001b[0m \u001b[0mcom\u001b[0m\u001b[1;33m.\u001b[0m\u001b[0m_apply_if_callable\u001b[0m\u001b[1;33m(\u001b[0m\u001b[0mkey\u001b[0m\u001b[1;33m,\u001b[0m \u001b[0mself\u001b[0m\u001b[1;33m.\u001b[0m\u001b[0mobj\u001b[0m\u001b[1;33m)\u001b[0m\u001b[1;33m\u001b[0m\u001b[0m\n\u001b[1;32m-> 1478\u001b[1;33m             \u001b[1;32mreturn\u001b[0m \u001b[0mself\u001b[0m\u001b[1;33m.\u001b[0m\u001b[0m_getitem_axis\u001b[0m\u001b[1;33m(\u001b[0m\u001b[0mmaybe_callable\u001b[0m\u001b[1;33m,\u001b[0m \u001b[0maxis\u001b[0m\u001b[1;33m=\u001b[0m\u001b[0maxis\u001b[0m\u001b[1;33m)\u001b[0m\u001b[1;33m\u001b[0m\u001b[0m\n\u001b[0m\u001b[0;32m   1479\u001b[0m \u001b[1;33m\u001b[0m\u001b[0m\n\u001b[0;32m   1480\u001b[0m     \u001b[1;32mdef\u001b[0m \u001b[0m_is_scalar_access\u001b[0m\u001b[1;33m(\u001b[0m\u001b[0mself\u001b[0m\u001b[1;33m,\u001b[0m \u001b[0mkey\u001b[0m\u001b[1;33m)\u001b[0m\u001b[1;33m:\u001b[0m\u001b[1;33m\u001b[0m\u001b[0m\n",
      "\u001b[1;32mC:\\Anaconda3\\envs\\WRADLIB\\lib\\site-packages\\pandas\\core\\indexing.py\u001b[0m in \u001b[0;36m_getitem_axis\u001b[1;34m(self, key, axis)\u001b[0m\n\u001b[0;32m   1909\u001b[0m \u001b[1;33m\u001b[0m\u001b[0m\n\u001b[0;32m   1910\u001b[0m         \u001b[1;31m# fall thru to straight lookup\u001b[0m\u001b[1;33m\u001b[0m\u001b[1;33m\u001b[0m\u001b[0m\n\u001b[1;32m-> 1911\u001b[1;33m         \u001b[0mself\u001b[0m\u001b[1;33m.\u001b[0m\u001b[0m_validate_key\u001b[0m\u001b[1;33m(\u001b[0m\u001b[0mkey\u001b[0m\u001b[1;33m,\u001b[0m \u001b[0maxis\u001b[0m\u001b[1;33m)\u001b[0m\u001b[1;33m\u001b[0m\u001b[0m\n\u001b[0m\u001b[0;32m   1912\u001b[0m         \u001b[1;32mreturn\u001b[0m \u001b[0mself\u001b[0m\u001b[1;33m.\u001b[0m\u001b[0m_get_label\u001b[0m\u001b[1;33m(\u001b[0m\u001b[0mkey\u001b[0m\u001b[1;33m,\u001b[0m \u001b[0maxis\u001b[0m\u001b[1;33m=\u001b[0m\u001b[0maxis\u001b[0m\u001b[1;33m)\u001b[0m\u001b[1;33m\u001b[0m\u001b[0m\n\u001b[0;32m   1913\u001b[0m \u001b[1;33m\u001b[0m\u001b[0m\n",
      "\u001b[1;32mC:\\Anaconda3\\envs\\WRADLIB\\lib\\site-packages\\pandas\\core\\indexing.py\u001b[0m in \u001b[0;36m_validate_key\u001b[1;34m(self, key, axis)\u001b[0m\n\u001b[0;32m   1796\u001b[0m                 \u001b[1;32mraise\u001b[0m\u001b[1;33m\u001b[0m\u001b[0m\n\u001b[0;32m   1797\u001b[0m             \u001b[1;32mexcept\u001b[0m\u001b[1;33m:\u001b[0m\u001b[1;33m\u001b[0m\u001b[0m\n\u001b[1;32m-> 1798\u001b[1;33m                 \u001b[0merror\u001b[0m\u001b[1;33m(\u001b[0m\u001b[1;33m)\u001b[0m\u001b[1;33m\u001b[0m\u001b[0m\n\u001b[0m\u001b[0;32m   1799\u001b[0m \u001b[1;33m\u001b[0m\u001b[0m\n\u001b[0;32m   1800\u001b[0m     \u001b[1;32mdef\u001b[0m \u001b[0m_is_scalar_access\u001b[0m\u001b[1;33m(\u001b[0m\u001b[0mself\u001b[0m\u001b[1;33m,\u001b[0m \u001b[0mkey\u001b[0m\u001b[1;33m)\u001b[0m\u001b[1;33m:\u001b[0m\u001b[1;33m\u001b[0m\u001b[0m\n",
      "\u001b[1;32mC:\\Anaconda3\\envs\\WRADLIB\\lib\\site-packages\\pandas\\core\\indexing.py\u001b[0m in \u001b[0;36merror\u001b[1;34m()\u001b[0m\n\u001b[0;32m   1783\u001b[0m                 raise KeyError(u\"the label [{key}] is not in the [{axis}]\"\n\u001b[0;32m   1784\u001b[0m                                .format(key=key,\n\u001b[1;32m-> 1785\u001b[1;33m                                        axis=self.obj._get_axis_name(axis)))\n\u001b[0m\u001b[0;32m   1786\u001b[0m \u001b[1;33m\u001b[0m\u001b[0m\n\u001b[0;32m   1787\u001b[0m             \u001b[1;32mtry\u001b[0m\u001b[1;33m:\u001b[0m\u001b[1;33m\u001b[0m\u001b[0m\n",
      "\u001b[1;31mKeyError\u001b[0m: 'the label [2018-07-12 23:00:00] is not in the [index]'"
     ]
    }
   ],
   "source": [
    "gageprec = gdata.loc[tend] - gdata.loc[tstart]"
   ]
  },
  {
   "cell_type": "markdown",
   "metadata": {},
   "source": [
    "### Radardaten laden: DX-Produkt (lokal, Reflektivität)"
   ]
  },
  {
   "cell_type": "code",
   "execution_count": null,
   "metadata": {},
   "outputs": [],
   "source": [
    "dbz = np.zeros((len(dtimes), len(az), len(r))) * np.nan\n",
    "for i, dtime in enumerate(dtimes):\n",
    "    fpath = dxsrc % dtime.strftime(\"%y%m%d%H%M\")\n",
    "    try:\n",
    "        data, meta = wradlib.io.read_dx(fpath)\n",
    "        print(\".\", end=\"\")\n",
    "    except:\n",
    "        print(\"Could not read: \" % fpath)\n",
    "    dbz[i] = data\n",
    "print(\"\")"
   ]
  },
  {
   "cell_type": "markdown",
   "metadata": {},
   "source": [
    "### Niederschlag aus Reflektivität schätzen: mit und ohne Dämpfungskorrektur"
   ]
  },
  {
   "cell_type": "code",
   "execution_count": null,
   "metadata": {},
   "outputs": [],
   "source": [
    "prec = helpers.dbz2depth(dbz)"
   ]
  },
  {
   "cell_type": "code",
   "execution_count": null,
   "metadata": {},
   "outputs": [],
   "source": [
    "pia = wradlib.atten.correct_attenuation_constrained(dbz, a_max=1.67e-4, a_min=2.33e-5, n_a=100,\n",
    "                                                    b_max=0.7, b_min=0.65, n_b=6, gate_length=1.,\n",
    "                                                    constraints=[wradlib.atten.constraint_dbz,\n",
    "                                                                 wradlib.atten.constraint_pia],\n",
    "                                                    constraint_args=[[59.0], [20.0]])"
   ]
  },
  {
   "cell_type": "code",
   "execution_count": null,
   "metadata": {},
   "outputs": [],
   "source": [
    "att_corr = dbz + pia\n",
    "prec2 = helpers.dbz2depth(att_corr)"
   ]
  },
  {
   "cell_type": "markdown",
   "metadata": {},
   "source": [
    "### Radardaten georeferenzieren"
   ]
  },
  {
   "cell_type": "code",
   "execution_count": null,
   "metadata": {},
   "outputs": [],
   "source": [
    "coord = wradlib.georef.sweep_centroids(len(az), 1000., len(r), 0.5)\n",
    "xyz = wradlib.georef.spherical_to_proj(coord[..., 0],\n",
    "                                       np.degrees(coord[..., 1]),\n",
    "                                       coord[..., 2], sitecoords=site, proj=proj)"
   ]
  },
  {
   "cell_type": "markdown",
   "metadata": {},
   "source": [
    "### Diagnostischer Plot 1: Niederschlagsschreiber über PPI"
   ]
  },
  {
   "cell_type": "code",
   "execution_count": null,
   "metadata": {},
   "outputs": [],
   "source": [
    "fig = plt.figure(figsize=(15,15))\n",
    "ax = fig.add_subplot(111, aspect=\"equal\")\n",
    "ax, pm = wradlib.vis.plot_ppi(prec.sum(axis=0), r=r, az=az, site=site, \n",
    "                              proj=proj, cmap=plt.cm.nipy_spectral, ax=ax, vmax=80)\n",
    "cb = plt.colorbar(pm, shrink=0.5)\n",
    "wradlib.vis.add_lines(ax, borders, color='black', lw=1)\n",
    "for i in range(len(gauges)):\n",
    "    color = \"red\"\n",
    "    if gauges.veg[i]==\"geprüft\":\n",
    "        color=\"white\"\n",
    "    plt.text(gauges.x[i], gauges.y[i], \"%d\" % gageprec[i],\n",
    "             horizontalalignment='center', verticalalignment='center', color=color, fontsize=14)\n",
    "plt.grid()\n",
    "plt.xlabel(\"UTM Easting\")\n",
    "plt.ylabel(\"UTM Northing\")\n",
    "plt.xlim(bbox[0], bbox[1])\n",
    "plt.ylim(bbox[2], bbox[3])"
   ]
  },
  {
   "cell_type": "markdown",
   "metadata": {},
   "source": [
    "### Radarniederschlag an den Niederschlagsschreibern extrahieren"
   ]
  },
  {
   "cell_type": "code",
   "execution_count": null,
   "metadata": {},
   "outputs": [],
   "source": [
    "# compute the KDTree\n",
    "tree = KDTree(list(zip(xyz[...,0].ravel(), xyz[...,1].ravel())))\n",
    "# query the tree for nearest neighbours\n",
    "distances, dxix = tree.query(list(zip(gauges.x, gauges.y)), k=9)"
   ]
  },
  {
   "cell_type": "code",
   "execution_count": null,
   "metadata": {},
   "outputs": [],
   "source": [
    "radarprec = np.median([prec.sum(axis=0).ravel()[ix_] for ix_ in dxix], axis=1)\n",
    "radarprec2 = np.median([prec2.sum(axis=0).ravel()[ix_] for ix_ in dxix], axis=1)"
   ]
  },
  {
   "cell_type": "markdown",
   "metadata": {},
   "source": [
    "### Diagnostischer Plot 2: Niederschlagsschreiber über PPI"
   ]
  },
  {
   "cell_type": "code",
   "execution_count": null,
   "metadata": {},
   "outputs": [],
   "source": [
    "maxval = 80\n",
    "goodix = np.array(gauges.veg==\"geprüft\")\n",
    "fig = plt.figure(figsize=(12,6))\n",
    "ax = plt.subplot(121, aspect=\"equal\")\n",
    "plt.plot([-10, 100], [-10, 100], \"k--\")\n",
    "plt.plot(gageprec, radarprec, \"k+\")\n",
    "plt.plot(gageprec[goodix], radarprec[goodix], \"g+\")\n",
    "plt.xlim(0,maxval)\n",
    "plt.ylim(0,maxval)\n",
    "plt.xlabel(\"Gages (mm)\")\n",
    "plt.ylabel(\"Radar (mm)\")\n",
    "plt.grid()\n",
    "\n",
    "ax = plt.subplot(122, aspect=\"equal\")\n",
    "plt.plot([-10, 100], [-10, 100], \"k--\")\n",
    "plt.plot(gageprec, radarprec2, \"k+\")\n",
    "plt.plot(gageprec[goodix], radarprec2[goodix], \"g+\")\n",
    "plt.xlim(0,maxval)\n",
    "plt.ylim(0,maxval)\n",
    "plt.xlabel(\"Gages (mm)\")\n",
    "plt.ylabel(\"Radar (mm)\")\n",
    "plt.grid()"
   ]
  },
  {
   "cell_type": "markdown",
   "metadata": {},
   "source": [
    "### RADOLAN RW-Produkt (stündlich, angeeicht) laden"
   ]
  },
  {
   "cell_type": "code",
   "execution_count": null,
   "metadata": {},
   "outputs": [],
   "source": [
    "tstart_rw = dtimes[0].replace(minute=0) - dt.timedelta(seconds=10*60)\n",
    "tend_rw = dtimes[-1].replace(minute=0) + dt.timedelta(seconds=10*60)\n",
    "dtimes_rw = wradlib.util.from_to(tstart_rw, tend_rw, 3600)\n",
    "rw = np.zeros((len(dtimes_rw), 900, 900)) * np.nan\n",
    "rwsrc = \"rw/raa01-rw_10000-%s-dwd---bin.gz\""
   ]
  },
  {
   "cell_type": "code",
   "execution_count": null,
   "metadata": {},
   "outputs": [],
   "source": [
    "for i, dtime in enumerate(dtimes_rw):\n",
    "    fpath = rwsrc % dtime.strftime(\"%y%m%d%H%M\")\n",
    "    try:\n",
    "        data, meta = wradlib.io.read_radolan_composite(fpath, missing=np.nan)\n",
    "        print(\".\", end=\"\")\n",
    "    except:\n",
    "        print(\"Could not read: \" % fpath)\n",
    "    rw[i] = data\n",
    "print(\"\")"
   ]
  },
  {
   "cell_type": "markdown",
   "metadata": {},
   "source": [
    "### Komposit georeferenzieren"
   ]
  },
  {
   "cell_type": "code",
   "execution_count": null,
   "metadata": {},
   "outputs": [],
   "source": [
    "# Get coordinates\n",
    "rwcoords = wradlib.georef.get_radolan_grid(900,900)\n",
    "xrw, yrw = wradlib.georef.reproject(rwcoords[:,:,0], rwcoords[:,:,1],\n",
    "                                   projection_source=wradlib.georef.create_osr(\"dwd-radolan\"),\n",
    "                                   projection_target=proj)"
   ]
  },
  {
   "cell_type": "code",
   "execution_count": null,
   "metadata": {},
   "outputs": [],
   "source": [
    "fig = plt.figure(figsize=(12,6))\n",
    "\n",
    "ax = fig.add_subplot(131, aspect=\"equal\")\n",
    "ax, pm = wradlib.vis.plot_ppi(prec.sum(axis=0), r=r, az=az, site=site, \n",
    "                              proj=proj, cmap=plt.cm.nipy_spectral, ax=ax, vmax=80)\n",
    "#cb = plt.colorbar(pm, shrink=0.5)\n",
    "wradlib.vis.add_lines(ax, borders, color='black', lw=0.3)\n",
    "#for i in range(len(gauges)):\n",
    "#    color = \"red\"\n",
    "#    if gauges.veg[i]==\"geprüft\":\n",
    "#        color=\"white\"\n",
    "#    plt.text(gauges.x[i], gauges.y[i], \"%d\" % gageprec[i],\n",
    "#             horizontalalignment='center', verticalalignment='center', color=color, fontsize=12)\n",
    "plt.grid()\n",
    "plt.xlabel(\"UTM Easting\")\n",
    "plt.ylabel(\"UTM Northing\")\n",
    "plt.xlim(bbox[0], bbox[1])\n",
    "plt.ylim(bbox[2], bbox[3])\n",
    "\n",
    "ax = fig.add_subplot(132, aspect=\"equal\")\n",
    "ax, pm = wradlib.vis.plot_ppi(prec2.sum(axis=0), r=r, az=az, site=site, \n",
    "                              proj=proj, cmap=plt.cm.nipy_spectral, ax=ax, vmax=80)\n",
    "#cb = plt.colorbar(pm, shrink=0.5)\n",
    "wradlib.vis.add_lines(ax, borders, color='black', lw=0.3)\n",
    "#for i in range(len(gauges)):\n",
    "#    color = \"red\"\n",
    "#    if gauges.veg[i]==\"geprüft\":\n",
    "#        color=\"white\"\n",
    "#    plt.text(gauges.x[i], gauges.y[i], \"%d\" % gageprec[i],\n",
    "#             horizontalalignment='center', verticalalignment='center', color=color, fontsize=12)\n",
    "plt.grid()\n",
    "plt.xlabel(\"UTM Easting\")\n",
    "plt.ylabel(\"UTM Northing\")\n",
    "plt.xlim(bbox[0], bbox[1])\n",
    "plt.ylim(bbox[2], bbox[3])\n",
    "\n",
    "\n",
    "ax = fig.add_subplot(133, aspect=\"equal\")\n",
    "pm = plt.pcolormesh(xrw, yrw, np.ma.masked_invalid(rw.sum(axis=0)), cmap=plt.cm.nipy_spectral, vmax=80)\n",
    "#plt.colorbar(pm, shrink=0.75)\n",
    "wradlib.vis.add_lines(ax, borders, color='black', lw=0.3)\n",
    "plt.grid()\n",
    "plt.xlabel(\"UTM Easting\")\n",
    "plt.ylabel(\"UTM Northing\")\n",
    "plt.xlim(bbox[0], bbox[1])\n",
    "plt.ylim(bbox[2], bbox[3])\n",
    "\n",
    "#plt.tight_layout()\n",
    "\n",
    "#fig.subplots_adjust(bottom=0.01)\n",
    "cbar_ax = fig.add_axes([0.2, 0.15, 0.6, 0.03])\n",
    "fig.colorbar(pm, cax=cbar_ax, orientation=\"horizontal\")\n",
    "\n",
    "\n",
    "plt.tight_layout()"
   ]
  },
  {
   "cell_type": "code",
   "execution_count": null,
   "metadata": {},
   "outputs": [],
   "source": [
    "# compute the KDTree\n",
    "tree = KDTree(list(zip(xrw.ravel(), yrw.ravel())))\n",
    "# query the tree for nearest neighbours\n",
    "distances, rwix = tree.query(list(zip(gauges.x, gauges.y)), k=9)"
   ]
  },
  {
   "cell_type": "code",
   "execution_count": null,
   "metadata": {},
   "outputs": [],
   "source": [
    "rwprec = np.median([rw.sum(axis=0).ravel()[ix_] for ix_ in rwix], axis=1)"
   ]
  },
  {
   "cell_type": "code",
   "execution_count": null,
   "metadata": {},
   "outputs": [],
   "source": [
    "maxval = 70\n",
    "goodix = np.array(gauges.veg==\"geprüft\")\n",
    "fig = plt.figure(figsize=(12,6))\n",
    "ax = plt.subplot(131, aspect=\"equal\")\n",
    "plt.plot([-10, 100], [-10, 100], \"k--\")\n",
    "plt.plot(gageprec, radarprec, \"k+\")\n",
    "plt.plot(gageprec[goodix], radarprec[goodix], \"g+\")\n",
    "plt.xlim(0,maxval)\n",
    "plt.ylim(0,maxval)\n",
    "plt.xlabel(\"Gages (mm)\")\n",
    "plt.ylabel(\"Radar (mm)\")\n",
    "plt.grid()\n",
    "plt.title(\"DX\")\n",
    "\n",
    "ax = plt.subplot(132, aspect=\"equal\")\n",
    "plt.plot([-10, 100], [-10, 100], \"k--\")\n",
    "plt.plot(gageprec, radarprec2, \"k+\")\n",
    "plt.plot(gageprec[goodix], radarprec2[goodix], \"g+\")\n",
    "plt.xlim(0,maxval)\n",
    "plt.ylim(0,maxval)\n",
    "plt.xlabel(\"Gages (mm)\")\n",
    "plt.ylabel(\"Radar (mm)\")\n",
    "plt.grid()\n",
    "plt.title(\"DX, att. corr.\")\n",
    "\n",
    "ax = plt.subplot(133, aspect=\"equal\")\n",
    "plt.plot([-10, 100], [-10, 100], \"k--\")\n",
    "plt.plot(gageprec, rwprec, \"k+\")\n",
    "plt.plot(gageprec[goodix], rwprec[goodix], \"g+\")\n",
    "plt.xlim(0,maxval)\n",
    "plt.ylim(0,maxval)\n",
    "plt.xlabel(\"Gages (mm)\")\n",
    "plt.ylabel(\"Radar (mm)\")\n",
    "plt.grid()\n",
    "plt.title(\"RW\")"
   ]
  },
  {
   "cell_type": "markdown",
   "metadata": {},
   "source": [
    "### Kumulativer Niederschlag über die Zeit"
   ]
  },
  {
   "cell_type": "code",
   "execution_count": null,
   "metadata": {},
   "outputs": [],
   "source": [
    "dxseries = np.median(prec.reshape((len(dtimes), -1))[:,dxix], axis=2)\n",
    "attcorrseries = np.median(prec2.reshape((len(dtimes), -1))[:,dxix], axis=2)\n",
    "rwseries = np.median(rw.reshape((len(dtimes_rw), -1))[:,rwix], axis=2)"
   ]
  },
  {
   "cell_type": "code",
   "execution_count": null,
   "metadata": {},
   "outputs": [],
   "source": [
    "# RW\n",
    "dfrw = pd.DataFrame(rwseries, index=dtimes_rw)\n",
    "dfrw = dfrw.cumsum()\n",
    "# DX\n",
    "dfdx = pd.DataFrame(dxseries, index=dtimes)\n",
    "dfdx = dfdx.cumsum()\n",
    "# Attenutation corrected\n",
    "dfattcorr = pd.DataFrame(attcorrseries, index=dtimes)\n",
    "dfattcorr = dfattcorr.cumsum()\n"
   ]
  },
  {
   "cell_type": "code",
   "execution_count": null,
   "metadata": {},
   "outputs": [],
   "source": [
    "tmp = gdata.loc[tstart:tend] - gdata.loc[tstart]"
   ]
  },
  {
   "cell_type": "code",
   "execution_count": null,
   "metadata": {},
   "outputs": [],
   "source": [
    "gix = np.where(np.array(gauges.veg)==\"geprüft\")[0]"
   ]
  },
  {
   "cell_type": "code",
   "execution_count": null,
   "metadata": {},
   "outputs": [],
   "source": [
    "fig = plt.figure(figsize=(12,12))\n",
    "for pi, i in enumerate(gix):\n",
    "    plt.subplot(4,4,pi+1)\n",
    "    dfrw[i].plot(label=\"RW\")\n",
    "    dfdx[i].plot(label=\"DX\")\n",
    "    dfattcorr[i].plot(label=\"DX corr.\")\n",
    "    tmp[i].plot(label=\"Gauge\", color=\"black\")\n",
    "    plt.ylim(0,60)\n",
    "    plt.grid()\n",
    "    plt.title(gauges.name[i])\n",
    "    if pi==12:\n",
    "        #plt.legend(bbox_to_anchor=(1.05, 1), loc=2, borderaxespad=0.)\n",
    "        plt.legend(ncol=2)\n",
    "plt.tight_layout()"
   ]
  },
  {
   "cell_type": "code",
   "execution_count": null,
   "metadata": {},
   "outputs": [],
   "source": [
    "rwseries.shape"
   ]
  },
  {
   "cell_type": "code",
   "execution_count": null,
   "metadata": {},
   "outputs": [],
   "source": [
    "dfrw"
   ]
  },
  {
   "cell_type": "code",
   "execution_count": null,
   "metadata": {},
   "outputs": [],
   "source": []
  }
 ],
 "metadata": {
  "kernelspec": {
   "display_name": "Python 3",
   "language": "python",
   "name": "python3"
  },
  "language_info": {
   "codemirror_mode": {
    "name": "ipython",
    "version": 3
   },
   "file_extension": ".py",
   "mimetype": "text/x-python",
   "name": "python",
   "nbconvert_exporter": "python",
   "pygments_lexer": "ipython3",
   "version": "3.6.6"
  },
  "toc": {
   "colors": {
    "hover_highlight": "#DAA520",
    "navigate_num": "#000000",
    "navigate_text": "#333333",
    "running_highlight": "#FF0000",
    "selected_highlight": "#FFD700",
    "sidebar_border": "#EEEEEE",
    "wrapper_background": "#FFFFFF"
   },
   "moveMenuLeft": true,
   "nav_menu": {
    "height": "12px",
    "width": "252px"
   },
   "navigate_menu": true,
   "number_sections": false,
   "sideBar": true,
   "threshold": 4,
   "toc_cell": false,
   "toc_section_display": "block",
   "toc_window_display": false,
   "widenNotebook": false
  }
 },
 "nbformat": 4,
 "nbformat_minor": 2
}
