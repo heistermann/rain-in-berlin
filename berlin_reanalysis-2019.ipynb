{
 "cells": [
  {
   "cell_type": "markdown",
   "metadata": {},
   "source": [
    "## Radargestützte Niederschlagsschätzung: Fallstudie Berlin, 12.7.2018"
   ]
  },
  {
   "cell_type": "markdown",
   "metadata": {},
   "source": [
    "### Umgebung einrichten"
   ]
  },
  {
   "cell_type": "code",
   "execution_count": 3,
   "metadata": {},
   "outputs": [],
   "source": [
    "import os\n",
    "import wradlib\n",
    "import matplotlib.pyplot as plt\n",
    "import numpy as np\n",
    "import pandas as pd\n",
    "from scipy.spatial import KDTree\n",
    "import helpers as h\n",
    "import datetime as dt\n",
    "import matplotlib.dates as mdates\n",
    "import matplotlib as mpl\n",
    "from matplotlib.colors import BoundaryNorm, LinearSegmentedColormap, to_hex\n",
    "from matplotlib.lines import Line2D"
   ]
  },
  {
   "cell_type": "code",
   "execution_count": 4,
   "metadata": {},
   "outputs": [],
   "source": [
    "%matplotlib inline"
   ]
  },
  {
   "cell_type": "markdown",
   "metadata": {},
   "source": [
    "### Konfiguration"
   ]
  },
  {
   "cell_type": "code",
   "execution_count": 5,
   "metadata": {},
   "outputs": [],
   "source": [
    "#dxdir = \"/media/x/data/radar/dx/pro/DX-pro_201906/DX-pro_20190610/raa00-dx_10392-1906100000-pro---bin\"\n",
    "dxdirpattern = \"/media/x/data/radar/dx_for_berlin/pro/DX-pro_%s/DX-pro_%s/raa00-dx_10392-%s-pro---bin\"\n",
    "rwdirpattern = \"rw/raa01-rw_10000-%s-dwd---bin.gz\""
   ]
  },
  {
   "cell_type": "markdown",
   "metadata": {},
   "source": [
    "### Radardaten georeferenzieren"
   ]
  },
  {
   "cell_type": "markdown",
   "metadata": {},
   "source": [
    "#### aux data"
   ]
  },
  {
   "cell_type": "code",
   "execution_count": 6,
   "metadata": {},
   "outputs": [],
   "source": [
    "dataset, inLayer = wradlib.io.open_vector(\"shapes/RBS_OD_ORT_1412.shp\")\n",
    "borders, keys = wradlib.georef.get_vector_coordinates(inLayer)\n",
    "bbox = list(inLayer.GetExtent())\n",
    "bbox[0] = bbox[0]-3000"
   ]
  },
  {
   "cell_type": "markdown",
   "metadata": {},
   "source": [
    "#### DX data"
   ]
  },
  {
   "cell_type": "code",
   "execution_count": 7,
   "metadata": {},
   "outputs": [],
   "source": [
    "# http://www.stadtentwicklung.berlin.de/service/gesetzestexte/de/download/geoinformation/koordinatenreferenzsysteme.pdf\n",
    "proj = wradlib.georef.epsg_to_osr(25833)"
   ]
  },
  {
   "cell_type": "code",
   "execution_count": 8,
   "metadata": {},
   "outputs": [],
   "source": [
    "site = (h.radars[\"pro\"][\"lon\"], h.radars[\"pro\"][\"lat\"], h.radars[\"pro\"][\"alt\"])\n",
    "r = h.specs_dx[\"r\"]\n",
    "az = h.specs_dx[\"az\"]"
   ]
  },
  {
   "cell_type": "code",
   "execution_count": 9,
   "metadata": {},
   "outputs": [],
   "source": [
    "coord_dx = wradlib.georef.sweep_centroids(len(az), 1000., len(r), 0.5)\n",
    "xyz_dx = wradlib.georef.spherical_to_proj(coord_dx[..., 0],\n",
    "                                          np.degrees(coord_dx[..., 1]),\n",
    "                                          coord_dx[..., 2], sitecoords=site, proj=proj)"
   ]
  },
  {
   "cell_type": "markdown",
   "metadata": {},
   "source": [
    "#### RW data"
   ]
  },
  {
   "cell_type": "code",
   "execution_count": 10,
   "metadata": {},
   "outputs": [],
   "source": [
    "# Get coordinates\n",
    "rwcoords = wradlib.georef.get_radolan_grid(900,900)\n",
    "x_rw, y_rw = wradlib.georef.reproject(rwcoords[:,:,0],\n",
    "                                      rwcoords[:,:,1],\n",
    "                                      projection_source=wradlib.georef.create_osr(\"dwd-radolan\"),\n",
    "                                      projection_target=proj)"
   ]
  },
  {
   "cell_type": "code",
   "execution_count": 11,
   "metadata": {},
   "outputs": [
    {
     "name": "stdout",
     "output_type": "stream",
     "text": [
      "(610, 739)\n",
      "(653, 786)\n"
     ]
    }
   ],
   "source": [
    "print(np.unravel_index(np.argmin(np.sqrt((x_rw - bbox[0])**2 + (y_rw - bbox[2])**2)), x_rw.shape))\n",
    "print(np.unravel_index(np.argmin(np.sqrt((x_rw - bbox[1])**2 + (y_rw - bbox[3])**2)), x_rw.shape))"
   ]
  },
  {
   "cell_type": "markdown",
   "metadata": {},
   "source": [
    "### Niederschlagsschreiber laden"
   ]
  },
  {
   "cell_type": "code",
   "execution_count": 12,
   "metadata": {},
   "outputs": [],
   "source": [
    "eventdays = \"2019-06-06\", \"2019-06-11\", \"2019-06-12\", \"2019-07-20\", \"2019-07-21\", \"2019-07-29\", \"2019-07-31\", \"2019-08-02\"\n",
    "eventnames= \"2019-06-06\", \"2019-06-11\",               \"2019-07-20\",               \"2019-07-29\", \"2019-07-31\", \"2019-08-02\""
   ]
  },
  {
   "cell_type": "code",
   "execution_count": 13,
   "metadata": {},
   "outputs": [],
   "source": [
    "def read_eventday(eventday):\n",
    "    # First run to extract column info\n",
    "    sheet_name = dt.datetime.strptime(eventday, \"%Y-%m-%d\").strftime(\"%d.%m.%Y\")\n",
    "    # Second extract data\n",
    "    columns = pd.read_excel(\"bwb/Starkregen Sommer 2019.xlsx\", sheet_name=sheet_name).columns\n",
    "    df = pd.read_excel(\"bwb/Starkregen Sommer 2019.xlsx\", sheet_name=sheet_name, skiprows=2, na_values=\"[-11059] No Good Data For Calculation\")\n",
    "    df.columns = columns\n",
    "    df = df.drop(columns=['Unnamed: 0'])\n",
    "    df = df.rename(columns={'Unnamed: 1': \"dtime\"})\n",
    "    df.columns = [column[:5] for column in df.columns]\n",
    "    df['dtime'] = pd.to_datetime(df['dtime'])\n",
    "    # To UTC\n",
    "    df.dtime = df.dtime - dt.timedelta(seconds=3600*2)\n",
    "    df = df.set_index('dtime')\n",
    "    df = df[~pd.isnull(df.index)]\n",
    "    return(df)    "
   ]
  },
  {
   "cell_type": "code",
   "execution_count": 14,
   "metadata": {},
   "outputs": [
    {
     "name": "stdout",
     "output_type": "stream",
     "text": [
      "2019-06-06\n",
      "2019-06-11\n",
      "2019-06-12\n",
      "2019-07-20\n",
      "2019-07-21\n",
      "2019-07-29\n",
      "2019-07-31\n",
      "2019-08-02\n"
     ]
    }
   ],
   "source": [
    "gdata = None\n",
    "for eventday in eventdays:\n",
    "    print(eventday)\n",
    "    if gdata is None:\n",
    "        gdata = read_eventday(eventday)\n",
    "    else:\n",
    "        gdata = pd.concat([gdata, read_eventday(eventday)])"
   ]
  },
  {
   "cell_type": "code",
   "execution_count": 15,
   "metadata": {},
   "outputs": [],
   "source": [
    "gauges = pd.read_excel(\"bwb/Starkregen Sommer 2019.xlsx\", sheet_name=\"Standorte\", header=None)\n",
    "gauges = gauges.drop(columns=[0])\n",
    "gauges.loc[0] = [name.replace(\" - Regenmesser\", \"\") for name in gauges.loc[0]]\n",
    "gauges = pd.DataFrame({\"name\": gauges.loc[0].tolist(), \"x\": gauges.loc[2].tolist(), \"y\": gauges.loc[3].tolist()})\n",
    "gauges.x = gauges.x.astype(\"f4\")\n",
    "gauges.y = gauges.y.astype(\"f4\")\n",
    "gauges[\"id\"] = [name[:5] for name in gauges.name]\n",
    "gauges = gauges.set_index('id')"
   ]
  },
  {
   "cell_type": "code",
   "execution_count": 16,
   "metadata": {},
   "outputs": [],
   "source": [
    "# Vegetation according to Regen2018_07_11_bis_07_12_anSenat.xlsx\n",
    "vegetation = [\"01.02\", \"03.08\", \"05.03\", \"05.15\", \"05.19\", \"08.01\", \"11.01\", \"11.02\", \"11.03\", \"12.01\", \"13.02\", \"13.04\", \"14.01\", \"14.03\", \"15.01\", \"15.05\", \"16.06\"]\n",
    "gauges[\"vegetation\"] = False\n",
    "gauges.loc[vegetation,\"vegetation\"] = True"
   ]
  },
  {
   "cell_type": "code",
   "execution_count": 17,
   "metadata": {},
   "outputs": [],
   "source": [
    "# Flagging spurious gauges\n",
    "col = eventnames[0]\n",
    "gauges[col] = False\n",
    "gauges.loc[[\"02.05\", \"06.01\"], col] = True\n",
    "col = eventnames[1]\n",
    "gauges[col] = False\n",
    "gauges.loc[[\"03.09\", \"05.19\", \"06.01\", \"11.06\", \"13.01\", \"14.01\", \"14.06\"], col] = True\n",
    "col = eventnames[2]\n",
    "gauges[col] = False\n",
    "gauges.loc[[\"06.01\"], col] = True\n",
    "col = eventnames[3]\n",
    "gauges[col] = False\n",
    "gauges.loc[[], col] = True\n",
    "col = eventnames[4]\n",
    "gauges[col] = False\n",
    "gauges.loc[[\"03.08\", \"15.01\"], col] = True\n",
    "col = eventnames[5]\n",
    "gauges[col] = False\n",
    "gauges.loc[[\"03.08\", \"06.12\", \"12.11\", \"14.01\"], col] = True"
   ]
  },
  {
   "cell_type": "markdown",
   "metadata": {},
   "source": [
    "### DWD Niederschlagsschreiber"
   ]
  },
  {
   "cell_type": "code",
   "execution_count": 18,
   "metadata": {},
   "outputs": [],
   "source": [
    "gfile = os.path.join(\"/media/x/data/dwdopendata/gauges/10mins/dwd_prec_10min_gauges.txt\")\n",
    "dwdg = pd.read_fwf(gfile, skiprows=2, header=None, encoding='ISO-8859-1')\n",
    "dwdg.columns = \"id\", \"from\", \"to\", \"alt\", \"lat\", \"lon\", \"name\", \"state\"\n",
    "dwdg[\"x\"], dwdg[\"y\"] = wradlib.georef.reproject(dwdg.lon, dwdg.lat, projection_target=proj)"
   ]
  },
  {
   "cell_type": "code",
   "execution_count": 19,
   "metadata": {},
   "outputs": [],
   "source": [
    "dwdg = dwdg[(dwdg.state==\"Brandenburg\") | (dwdg.state==\"Berlin\")]\n",
    "dwdg = dwdg[(dwdg.x>bbox[0]-5000) & (dwdg.x<bbox[1]) & (dwdg.y>bbox[2]) & (dwdg.y<bbox[3])]"
   ]
  },
  {
   "cell_type": "code",
   "execution_count": 20,
   "metadata": {},
   "outputs": [
    {
     "name": "stdout",
     "output_type": "stream",
     "text": [
      "00053\n",
      "00399...just NaN.\n",
      "00400\n",
      "00410...just NaN.\n",
      "00420\n",
      "00427"
     ]
    },
    {
     "name": "stderr",
     "output_type": "stream",
     "text": [
      "/home/maik/miniconda3/envs/cs/lib/python3.7/site-packages/IPython/core/interactiveshell.py:3058: DtypeWarning: Columns (3) have mixed types. Specify dtype option on import or set low_memory=False.\n",
      "  interactivity=interactivity, compiler=compiler, result=result)\n"
     ]
    },
    {
     "name": "stdout",
     "output_type": "stream",
     "text": [
      "\n",
      "00430\n",
      "00433\n",
      "03205\n",
      "03987\n",
      "04637\n"
     ]
    }
   ],
   "source": [
    "dwd = None\n",
    "for id in dwdg.id:\n",
    "    idstr = \"%05d\" % id\n",
    "    print(idstr, end=\"\")\n",
    "    tmpf = os.path.join(\"/media/x/data/dwdopendata/gauges/10mins/dwd_prec_10min_%s.txt\" % idstr)\n",
    "    try: \n",
    "        tmp = pd.read_csv(tmpf, sep=\";\", na_values=[-999,-999.])\n",
    "    except FileNotFoundError:\n",
    "        print(\"...not found.\")\n",
    "        dwdg = dwdg[dwdg.id != id]\n",
    "        continue\n",
    "    tmp.datetime = pd.to_datetime(tmp.datetime)\n",
    "    tmp = tmp.set_index(\"datetime\")\n",
    "    tmp = tmp[\"2019-06-06\":\"2019-08-04\"]\n",
    "    tmp.depth = tmp.depth.astype(\"f4\")\n",
    "    if np.all(np.isnan(np.array(tmp.depth))):\n",
    "        print(\"...just NaN.\")\n",
    "        dwdg = dwdg[dwdg.id != id]\n",
    "        continue\n",
    "    print(\"\")\n",
    "    if dwd is None:\n",
    "        dwd = tmp[\"depth\"]\n",
    "    else:\n",
    "        #dwd = pd.merge(dwd,tmp, how='inner', left_index=True, right_index=True)\n",
    "        dwd = pd.concat([dwd,tmp[\"depth\"]], join='outer', axis=1)\n",
    "dwd.columns = dwdg.id\n",
    "dwdg = dwdg.set_index(\"id\")"
   ]
  },
  {
   "cell_type": "markdown",
   "metadata": {},
   "source": [
    "### Räumliches Setup"
   ]
  },
  {
   "cell_type": "code",
   "execution_count": 21,
   "metadata": {},
   "outputs": [
    {
     "data": {
      "image/png": "[encoded data removed]",
      "text/plain": [
       "<Figure size 720x720 with 1 Axes>"
      ]
     },
     "metadata": {
      "needs_background": "light"
     },
     "output_type": "display_data"
    }
   ],
   "source": [
    "plt.rc('font', **{'size'   : 12})\n",
    "\n",
    "fig = plt.figure(figsize=(10,10))\n",
    "\n",
    "xoffset = 370000\n",
    "yoffset = 5800000\n",
    "\n",
    "ax = fig.add_subplot(111, aspect=\"equal\")\n",
    "#pm = plt.pcolormesh(x_rw, y_rw, np.ones((900,900)), \n",
    "#                    facecolor=\"None\", edgecolor=\"grey\", cmap=plt.cm.gist_gray, vmax=1, linewidth=0.1)\n",
    "plt.plot(x_rw, y_rw, \"k+\", color=\"lightgray\", ms=4)\n",
    "site_xy = wradlib.georef.reproject(site, projection_target=proj)\n",
    "plt.plot(site_xy[0], site_xy[1], \"b*\", ms=14, mfc=\"tab:orange\", mec=\"tab:orange\", label=\"DWD Radar Proetzel\")\n",
    "for rad in np.arange(1,7)*10000:\n",
    "    circle = plt.Circle(site_xy[0:2], radius=rad, facecolor=\"None\", edgecolor=\"black\", ls=\"dashed\")\n",
    "    ax.add_artist(circle)\n",
    "#wradlib.vis.plot_ppi_crosshair(site=site, ranges=[60000,], angles=[90,], proj=proj)\n",
    "#wradlib.vis.plot_ppi_crosshair(site=site, ranges=np.arange(1,6)*10000,\n",
    "#                               angles=[90], proj=proj,\n",
    "#                               line=dict(color='none'),\n",
    "#                               circle={'edgecolor': 'blue', \"linewidth\": 1., \"linestyle\":\"-\"})\n",
    "ax.plot([], [], ms=0, color=\"black\", ls=\"--\", label=\"Radarkreise (10-60 km)\")\n",
    "#cb = plt.colorbar(pm, shrink=0.5)\n",
    "wradlib.vis.add_lines(ax, borders, color='black', lw=0.7)\n",
    "plt.plot(gauges.x, gauges.y, \"go\", markerfacecolor=\"None\", mec=\"tab:blue\", mew=2, label=\"Regenschr. (BWB)\")\n",
    "plt.plot(dwdg.x, dwdg.y, \"go\", markerfacecolor=\"None\", mec=\"tab:orange\", mew=2, label=\"Regenschr. (DWD)\")\n",
    "#for i in range(len(gauges)):\n",
    "#    plt.text(gauges.x[i], gauges.y[i], gauges.name[i][:5], horizontalalignment=\"left\", color=\"red\")\n",
    "               \n",
    "    \n",
    "\n",
    "#for i in range(len(gauges)):\n",
    "#    color = \"red\"\n",
    "#    if gauges.veg[i]==\"geprüft\":\n",
    "#        color=\"white\"\n",
    "#    plt.text(gauges.x[i], gauges.y[i], \"%d\" % gageprec[i],\n",
    "#             horizontalalignment='center', verticalalignment='center', color=color, fontsize=12)\n",
    "plt.grid(color=\"black\")\n",
    "plt.xlabel(\"UTM Easting (meters)\", fontsize=18)\n",
    "plt.ylabel(\"UTM Northing (meters)\", fontsize=18)\n",
    "bufr = 10000\n",
    "plt.xlim(bbox[0]-2000, bbox[1]+10000)\n",
    "plt.ylim(bbox[2]-6000, bbox[3]+1000)\n",
    "ax.tick_params(labelsize=15)\n",
    "ax.plot([], [], \"k+\", color=\"gray\", label=\"RADOLAN Gitter\")\n",
    "\n",
    "plt.ticklabel_format(axis=\"x\", useOffset=xoffset)\n",
    "plt.ticklabel_format(axis=\"y\", useOffset=yoffset)\n",
    "plt.legend(loc=\"lower left\", fontsize=12, ncol=2)\n",
    "#plt.title(\"DX\")\n",
    "\n",
    "plt.savefig(\"docs/events/setup.png\", dpi=300, bbox_inches=\"tight\")"
   ]
  },
  {
   "cell_type": "code",
   "execution_count": 1,
   "metadata": {},
   "outputs": [],
   "source": [
    "starts = [\"2019-06-06 12:00:00\", \"2019-06-11 19:00:00\", \"2019-07-20 20:00:00\", \"2019-07-29 14:00:00\", \"2019-07-31 16:00:00\", \"2019-08-02 13:00:00\"]\n",
    "ends   = [\"2019-06-06 21:00:00\", \"2019-06-12 02:00:00\", \"2019-07-20 23:00:00\", \"2019-07-29 17:00:00\", \"2019-07-31 20:00:00\", \"2019-08-02 16:00:00\"]"
   ]
  },
  {
   "cell_type": "code",
   "execution_count": 2,
   "metadata": {},
   "outputs": [
    {
     "ename": "NameError",
     "evalue": "name 'plt' is not defined",
     "output_type": "error",
     "traceback": [
      "\u001b[0;31m---------------------------------------------------------------------------\u001b[0m",
      "\u001b[0;31mNameError\u001b[0m                                 Traceback (most recent call last)",
      "\u001b[0;32m<ipython-input-2-9fa106deb108>\u001b[0m in \u001b[0;36m<module>\u001b[0;34m\u001b[0m\n\u001b[0;32m----> 1\u001b[0;31m \u001b[0mplt\u001b[0m\u001b[0;34m.\u001b[0m\u001b[0mrc\u001b[0m\u001b[0;34m(\u001b[0m\u001b[0;34m'font'\u001b[0m\u001b[0;34m,\u001b[0m \u001b[0;34m**\u001b[0m\u001b[0;34m{\u001b[0m\u001b[0;34m'size'\u001b[0m   \u001b[0;34m:\u001b[0m \u001b[0;36m12\u001b[0m\u001b[0;34m}\u001b[0m\u001b[0;34m)\u001b[0m\u001b[0;34m\u001b[0m\u001b[0;34m\u001b[0m\u001b[0m\n\u001b[0m\u001b[1;32m      2\u001b[0m \u001b[0;34m\u001b[0m\u001b[0m\n\u001b[1;32m      3\u001b[0m \u001b[0mfig\u001b[0m\u001b[0;34m,\u001b[0m \u001b[0max\u001b[0m \u001b[0;34m=\u001b[0m \u001b[0mplt\u001b[0m\u001b[0;34m.\u001b[0m\u001b[0msubplots\u001b[0m\u001b[0;34m(\u001b[0m\u001b[0mnrows\u001b[0m\u001b[0;34m=\u001b[0m\u001b[0;36m3\u001b[0m\u001b[0;34m,\u001b[0m \u001b[0mncols\u001b[0m\u001b[0;34m=\u001b[0m\u001b[0;36m2\u001b[0m\u001b[0;34m,\u001b[0m \u001b[0mfigsize\u001b[0m\u001b[0;34m=\u001b[0m\u001b[0;34m(\u001b[0m\u001b[0;36m10\u001b[0m\u001b[0;34m,\u001b[0m\u001b[0;36m10\u001b[0m\u001b[0;34m)\u001b[0m\u001b[0;34m)\u001b[0m\u001b[0;34m\u001b[0m\u001b[0;34m\u001b[0m\u001b[0m\n\u001b[1;32m      4\u001b[0m \u001b[0max\u001b[0m \u001b[0;34m=\u001b[0m \u001b[0max\u001b[0m\u001b[0;34m.\u001b[0m\u001b[0mravel\u001b[0m\u001b[0;34m(\u001b[0m\u001b[0;34m)\u001b[0m\u001b[0;34m\u001b[0m\u001b[0;34m\u001b[0m\u001b[0m\n\u001b[1;32m      5\u001b[0m \u001b[0;34m\u001b[0m\u001b[0m\n",
      "\u001b[0;31mNameError\u001b[0m: name 'plt' is not defined"
     ]
    }
   ],
   "source": [
    "plt.rc('font', **{'size'   : 12})\n",
    "\n",
    "fig, ax = plt.subplots(nrows=3, ncols=2, figsize=(10,10))\n",
    "ax = ax.ravel()\n",
    "\n",
    "for i in range(len(starts)):\n",
    "    plt.sca(ax[i])\n",
    "    tmp = gdata[starts[i]:ends[i]]\n",
    "    for column in tmp.columns:\n",
    "        plt.plot(tmp.index, tmp[column].cumsum(), lw=0.5)\n",
    "    plt.title(\"%s\" % starts[i][0:11])\n",
    "    plt.ylabel(\"mm\")\n",
    "    plt.grid()\n",
    "    ax[i].xaxis.set_major_formatter(mdates.DateFormatter('%H:%M'))\n",
    "    plt.xticks(rotation=20)\n",
    "#fig.autofmt_xdate()\n",
    "plt.tight_layout()\n",
    "plt.savefig(\"docs/events/events_gauges.png\", dpi=200, bbox_inches=\"tight\")"
   ]
  },
  {
   "cell_type": "markdown",
   "metadata": {},
   "source": [
    "### Radardaten laden und prozessieren"
   ]
  },
  {
   "cell_type": "code",
   "execution_count": null,
   "metadata": {},
   "outputs": [],
   "source": [
    "def proc_dx(dtimes, dxdirpattern):\n",
    "    dbz = np.zeros((len(dtimes), len(az), len(r))) * np.nan\n",
    "    for i, dtime in enumerate(dtimes):\n",
    "        #dxpath = \"/media/x/data/radar/dx/pro/DX-pro_201906/DX-pro_20190610/raa00-dx_10392-1906100000-pro---bin\"\n",
    "        #          /media/x/data/radar/dx/pro/DX-pro_201906/DX-pro_20190606/raa00-dx_10392-1906061200-pro---bin\n",
    "        fpath = dxdirpattern % (dtime.strftime(\"%Y%m\"), dtime.strftime(\"%Y%m%d\"), dtime.strftime(\"%y%m%d%H%M\") )\n",
    "        try:\n",
    "            data, meta = wradlib.io.read_dx(fpath)\n",
    "            dbz[i] = data\n",
    "            print(\".\", end=\"\")\n",
    "        except:\n",
    "            print(\"Could not read: %s\" % fpath)\n",
    "            dbz[i] = 0\n",
    "    # to precipitation depth\n",
    "    dxprec = h.dbz2depth(dbz)\n",
    "    pia = wradlib.atten.correct_attenuation_constrained(dbz, a_max=1.67e-4, a_min=2.33e-5, n_a=100,\n",
    "                                                        b_max=0.7, b_min=0.65, n_b=6, gate_length=1.,\n",
    "                                                        constraints=[wradlib.atten.constraint_dbz,\n",
    "                                                                     wradlib.atten.constraint_pia],\n",
    "                                                        constraint_args=[[59.0], [15.0]])\n",
    "    dxprec2 = h.dbz2depth(dbz + pia)\n",
    "    print(\"\")\n",
    "    return(dxprec, dxprec2)"
   ]
  },
  {
   "cell_type": "code",
   "execution_count": null,
   "metadata": {},
   "outputs": [],
   "source": [
    "def proc_rw(dtimes, rwdirpattern):\n",
    "    tstart_rw = dtimes[0] + dt.timedelta(seconds=50*60)#.replace(minute=0) - dt.timedelta(seconds=10*60)\n",
    "    tend_rw = dtimes[-1]#.replace(minute=0) + dt.timedelta(seconds=10*60)\n",
    "    dtimes_rw = wradlib.util.from_to(tstart_rw, tend_rw, 3600)\n",
    "    rwprec = np.zeros((len(dtimes_rw), 900, 900)) * np.nan\n",
    "    for i, dtime in enumerate(dtimes_rw):\n",
    "        fpath = rwdirpattern % dtime.strftime(\"%y%m%d%H%M\")\n",
    "        try:\n",
    "            data, meta = wradlib.io.read_radolan_composite(fpath, missing=np.nan)\n",
    "            rwprec[i] = data\n",
    "            print(\".\", end=\"\")\n",
    "        except:\n",
    "            print(\"Could not read: %s\" % fpath)\n",
    "    print(\"\")\n",
    "    return rwprec, dtimes_rw"
   ]
  },
  {
   "cell_type": "code",
   "execution_count": null,
   "metadata": {},
   "outputs": [],
   "source": [
    "eventix = 3\n",
    "dtimes = wradlib.util.from_to(starts[eventix], ends[eventix], 300)\n",
    "tmpg = gdata[starts[eventix]:ends[eventix]]\n",
    "tmpdwd = dwd[starts[eventix]:ends[eventix]]\n",
    "tmpdwdg = dwdg.copy()\n",
    "# deal with NaN\n",
    "for id in dwdg.index:\n",
    "    if len(np.where(np.isnan(tmpdwd[id]))[0]) > len(tmpdwd)*0.05:\n",
    "        tmpdwd = tmpdwd.drop([id], axis=1)\n",
    "        tmpdwdg = tmpdwdg.drop([id])"
   ]
  },
  {
   "cell_type": "code",
   "execution_count": null,
   "metadata": {},
   "outputs": [],
   "source": [
    "# Rain gauge indices for good and bad gauges\n",
    "# gix = np.array(gauges.flag==\"\")\n",
    "# gix2 = np.array(gauges.veg==\"geprüft\") & gix\n",
    "# bix = ~gix2\n",
    "# gix = np.where(gix)[0]\n",
    "gix = np.array(~gauges[eventnames[eventix]])\n",
    "bix = ~gix\n",
    "gix = np.where(gix)[0]"
   ]
  },
  {
   "cell_type": "code",
   "execution_count": null,
   "metadata": {},
   "outputs": [],
   "source": [
    "dxprec, dxprec2 = proc_dx(dtimes, dxdirpattern)"
   ]
  },
  {
   "cell_type": "code",
   "execution_count": null,
   "metadata": {},
   "outputs": [],
   "source": [
    "# compute the KDTree\n",
    "tree_dx = KDTree(list(zip(xyz_dx[...,0].ravel(), xyz_dx[...,1].ravel())))\n",
    "# query the tree for nearest neighbours\n",
    "dists_dx, ix_dx = tree_dx.query(list(zip(gauges.x, gauges.y)), k=9)\n",
    "# and for DWD gauges\n",
    "dwddists_dx, dwdix_dx = tree_dx.query(list(zip(tmpdwdg.x, tmpdwdg.y)), k=9)"
   ]
  },
  {
   "cell_type": "code",
   "execution_count": null,
   "metadata": {},
   "outputs": [],
   "source": [
    "bestgdx = np.argmin(np.abs(np.sum(dxprec.reshape( (len(dtimes), -1))[:,ix_dx], axis=0) - np.array(np.sum(tmpg, axis=0)).reshape((50,1))), axis=1)\n",
    "bestgdx2= np.argmin(np.abs(np.sum(dxprec2.reshape((len(dtimes), -1))[:,ix_dx], axis=0) - np.array(np.sum(tmpg, axis=0)).reshape((50,1))), axis=1)\n",
    "# DWD gauges\n",
    "dwdbestgdx = np.argmin(np.abs(np.sum(dxprec.reshape( (len(dtimes), -1))[:,dwdix_dx], axis=0) - np.array(np.sum(tmpdwd, axis=0)).reshape((len(tmpdwdg),1))), axis=1)\n",
    "dwdbestgdx2= np.argmin(np.abs(np.sum(dxprec2.reshape((len(dtimes), -1))[:,dwdix_dx], axis=0) - np.array(np.sum(tmpdwd, axis=0)).reshape((len(tmpdwdg),1))), axis=1)"
   ]
  },
  {
   "cell_type": "code",
   "execution_count": null,
   "metadata": {},
   "outputs": [],
   "source": [
    "dx_at_gauge  = dxprec.reshape ((len(dtimes), -1))[np.arange(len(dtimes))[:,None],ix_dx[np.arange(len(ix_dx)),bestgdx]]\n",
    "dx2_at_gauge = dxprec2.reshape((len(dtimes), -1))[np.arange(len(dtimes))[:,None],ix_dx[np.arange(len(ix_dx)),bestgdx2]]\n",
    "# DWD\n",
    "dx_at_dwdgauge = dxprec.reshape((len(dtimes), -1))[np.arange(len(dtimes))[:,None],dwdix_dx[np.arange(len(dwdix_dx)),dwdbestgdx]]\n",
    "dx2_at_dwdgauge = dxprec2.reshape((len(dtimes), -1))[np.arange(len(dtimes))[:,None],dwdix_dx[np.arange(len(dwdix_dx)),dwdbestgdx2]]"
   ]
  },
  {
   "cell_type": "code",
   "execution_count": null,
   "metadata": {},
   "outputs": [],
   "source": [
    "# dx_at_gauge = np.median(dxprec.reshape((len(dtimes), -1))[:,ix_dx], axis=2)\n",
    "# dx2_at_gauge = np.median(dxprec2.reshape((len(dtimes), -1))[:,ix_dx], axis=2)"
   ]
  },
  {
   "cell_type": "code",
   "execution_count": null,
   "metadata": {},
   "outputs": [],
   "source": [
    "rwprec, dtimes_rw = proc_rw(dtimes, rwdirpattern)\n",
    "\n",
    "# compute the KDTree\n",
    "tree_rw = KDTree(list(zip(x_rw.ravel(), y_rw.ravel())))\n",
    "# query the tree for nearest neighbours\n",
    "dists_rw, ix_rw = tree_rw.query(list(zip(gauges.x, gauges.y)), k=9)\n",
    "#rw_at_gauge = np.median(rwprec.reshape((len(dtimes_rw), -1))[:,ix_rw], axis=2)\n",
    "# best match\n",
    "bestgrw = np.argmin(np.abs(np.sum(rwprec.reshape( (len(dtimes_rw), -1))[:,ix_rw], axis=0) - np.array(np.sum(tmpg, axis=0)).reshape((50,1))), axis=1)\n",
    "rw_at_gauge = rwprec.reshape((len(dtimes_rw), -1))[np.arange(len(dtimes_rw))[:,None],ix_rw[np.arange(len(ix_rw)),bestgrw]]\n",
    "# DWD\n",
    "dwddists_rw, dwdix_rw = tree_rw.query(list(zip(tmpdwdg.x, tmpdwdg.y)), k=9)\n",
    "dwdbestgrw = np.argmin(np.abs(np.sum(rwprec.reshape( (len(dtimes_rw), -1))[:,dwdix_rw], axis=0) - np.array(np.sum(tmpdwd, axis=0)).reshape((len(tmpdwdg),1))), axis=1)\n",
    "rw_at_dwdgauge = rwprec.reshape((len(dtimes_rw), -1))[np.arange(len(dtimes_rw))[:,None],dwdix_rw[np.arange(len(dwdix_rw)),dwdbestgrw]]\n",
    "\n"
   ]
  },
  {
   "cell_type": "markdown",
   "metadata": {},
   "source": [
    "# Interpolation der Messungen an den Niederschlagsschreibern"
   ]
  },
  {
   "cell_type": "markdown",
   "metadata": {},
   "source": [
    "## Kreuzvalidierung"
   ]
  },
  {
   "cell_type": "code",
   "execution_count": null,
   "metadata": {},
   "outputs": [],
   "source": [
    "# Interpolation using all gauges\n",
    "obs_coords = np.array(gauges.loc[:,[\"x\", \"y\"]]).astype(\"f4\")\n",
    "rad_coords = xyz_dx[...,0:2].reshape((-1,2))\n",
    "\n",
    "go_all = wradlib.adjust.GageOnly(obs_coords, rad_coords, nnear_raws=9)\n",
    "gosum_all_obs, gosum_all_est = go_all.xvalidate(np.array(tmpg.sum()[:]),\n",
    "                                                dxprec.sum(axis=0).ravel())\n",
    "#gosum_all_obs, gosum_all_est = go_all.xvalidate(np.array(gageprec[:]), \n",
    "#                                                np.ones(len(gageprec[:])))"
   ]
  },
  {
   "cell_type": "code",
   "execution_count": null,
   "metadata": {},
   "outputs": [],
   "source": [
    "#Interpolation using \"good\" gauges\n",
    "obs_coords_gix = np.array(gauges.loc[gauges.index[gix],[\"x\", \"y\"]]).astype(\"f4\")\n",
    "\n",
    "go_gix = wradlib.adjust.GageOnly(obs_coords_gix, rad_coords, nnear_raws=9)\n",
    "gosum_gix_obs, gosum_gix_est = go_gix.xvalidate(np.array(tmpg.sum()[gix]),\n",
    "                                               dxprec.sum(axis=0).ravel())"
   ]
  },
  {
   "cell_type": "code",
   "execution_count": null,
   "metadata": {},
   "outputs": [],
   "source": [
    "# go_all_5min = np.zeros(gdata.shape)\n",
    "# for i in range(len(go_all_5min)):\n",
    "#     _, go_all_5min[i] = go_all.xvalidate(np.array(gdata.iloc[i]), dxprec[i].ravel())\n",
    "\n",
    "go_all_5min = np.zeros(tmpg.shape)\n",
    "for i in range(len(go_all_5min)):\n",
    "    _, go_all_5min[i] = go_all.xvalidate(np.array(tmpg.iloc[i]), dxprec[i].ravel())    "
   ]
  },
  {
   "cell_type": "markdown",
   "metadata": {},
   "source": [
    "## Interpolation auf Gitter"
   ]
  },
  {
   "cell_type": "code",
   "execution_count": null,
   "metadata": {},
   "outputs": [],
   "source": [
    "# Target coordinates\n",
    "xtrg = np.arange(bbox[0]-1000, bbox[1]+2000, 1000)\n",
    "ytrg = np.arange(bbox[2]-1000, bbox[3]+2000, 1000)\n",
    "trg = wradlib.util.gridaspoints(ytrg, xtrg)\n",
    "#trg = np.meshgrid(xtrg, ytrg)\n",
    "#trg = np.vstack( (trg[0].ravel(), trg[1].ravel()) ).T"
   ]
  },
  {
   "cell_type": "code",
   "execution_count": null,
   "metadata": {},
   "outputs": [],
   "source": [
    "# Interpolation objects\n",
    "# idw = wradlib.ipol.Idw(obs_coords_gix, trg)\n",
    "# ip = idw(np.array(gdata[gix].sum())).reshape((len(ytrg), len(xtrg)))\n",
    "idw = wradlib.ipol.Idw(obs_coords_gix, trg)\n",
    "ip = idw(np.array(tmpg.iloc[:,gix].sum())).reshape((len(ytrg), len(xtrg)))"
   ]
  },
  {
   "cell_type": "markdown",
   "metadata": {},
   "source": [
    "## Flächenhafte Darstellung aller Produkte"
   ]
  },
  {
   "cell_type": "code",
   "execution_count": null,
   "metadata": {
    "scrolled": false
   },
   "outputs": [],
   "source": [
    "plt.rc('font', **{'size'   : 14})\n",
    "\n",
    "gridcolor = \"lightgray\"\n",
    "linecolor = \"white\"\n",
    "#fontsize = 18\n",
    "\n",
    "cmap = plt.cm.magma#plt.cm.nipy_spectral\n",
    "\n",
    "bounds = np.arange(0, 65, 5)\n",
    "lenmap = len(bounds) - 1\n",
    "colornums = [int(i*(cmap.N-1)/(lenmap-1)) for i in (np.arange(lenmap))]\n",
    "colors = [cmap(i) for i in colornums]\n",
    "listedcmap = mpl.colors.ListedColormap(colors)\n",
    "norm = BoundaryNorm(bounds, listedcmap.N)\n",
    "\n",
    "fig, axs = plt.subplots(figsize=(10,8), nrows=2, ncols=2, sharex=True, sharey=True)\n",
    "axs = axs.ravel()\n",
    "\n",
    "axi = 0\n",
    "plt.sca(axs[axi])\n",
    "ax = axs[axi]\n",
    "ax.set_aspect(\"equal\")\n",
    "#ax, pm1 = wradlib.vis.plot_ppi(dxprec.sum(axis=0), r=r, az=az, site=site, \n",
    "#                              proj=proj, cmap=plt.cm.nipy_spectral, vmin=0, vmax=85, ax=ax)\n",
    "ax, pm = wradlib.vis.plot_ppi(dxprec.sum(axis=0), ax=ax, r=r, az=az, site=site, \n",
    "                              proj=proj, cmap=listedcmap, norm=norm)\n",
    "wradlib.vis.add_lines(ax, borders, color=linecolor, lw=0.3)\n",
    "plt.grid(color=gridcolor)\n",
    "#plt.xlabel(\"UTM Easting\", fontsize=fontsize)\n",
    "plt.ylabel(\"UTM Northing\")#, fontsize=fontsize)\n",
    "plt.xlim(bbox[0], bbox[1])\n",
    "plt.ylim(bbox[2], bbox[3])\n",
    "plt.title(\"DX\")#, fontsize=fontsize)\n",
    "for i in gix:\n",
    "    plt.text(gauges.x[i], gauges.y[i], \"%d\" % tmpg.sum()[i],\n",
    "             horizontalalignment='center', verticalalignment='center', \n",
    "             color=\"white\", fontsize=12)\n",
    "for id in tmpdwdg.index:\n",
    "    plt.text(tmpdwdg.loc[id, \"x\"], tmpdwdg.loc[id, \"y\"], \"%d\" % tmpdwd.sum()[id],\n",
    "             horizontalalignment='center', verticalalignment='center', \n",
    "             color=\"orange\", fontsize=12)\n",
    "plt.ticklabel_format(axis=\"x\", useOffset=xoffset)\n",
    "plt.ticklabel_format(axis=\"y\", useOffset=yoffset)\n",
    "\n",
    "custom_lines = [Line2D([0], [0], marker=\"$5$\", color=\"white\", lw=0, ms=10),\n",
    "                Line2D([0], [0], marker=\"$5$\", color=\"orange\", lw=0, ms=10)]\n",
    "plt.legend(custom_lines, ['BWB', 'DWD'], borderpad=0.2, handletextpad=0.1, fontsize=11, \n",
    "           title=\"Schreiber\", title_fontsize=11)\n",
    "\n",
    "\n",
    "axi = 1\n",
    "plt.sca(axs[axi])\n",
    "ax = axs[axi]\n",
    "ax.set_aspect(\"equal\")\n",
    "ax, pm = wradlib.vis.plot_ppi(dxprec2.sum(axis=0), ax=ax, r=r, az=az, site=site, \n",
    "                              proj=proj, cmap=listedcmap, norm=norm)\n",
    "wradlib.vis.add_lines(ax, borders, color=linecolor, lw=0.3)\n",
    "plt.grid()\n",
    "#plt.xlabel(\"UTM Easting\")\n",
    "#plt.ylabel(\"UTM Northing\")\n",
    "#plt.xlim(bbox[0], bbox[1])\n",
    "#plt.ylim(bbox[2], bbox[3])\n",
    "plt.title(\"DX korrigiert\")#, fontsize=fontsize)\n",
    "for i in gix:\n",
    "    plt.text(gauges.x[i], gauges.y[i], \"%d\" % tmpg.sum()[i],\n",
    "             horizontalalignment='center', verticalalignment='center', \n",
    "             color=\"white\", fontsize=12)\n",
    "for id in tmpdwdg.index:\n",
    "    plt.text(tmpdwdg.loc[id, \"x\"], tmpdwdg.loc[id, \"y\"], \"%d\" % tmpdwd.sum()[id],\n",
    "             horizontalalignment='center', verticalalignment='center', \n",
    "             color=\"orange\", fontsize=12)\n",
    "plt.ticklabel_format(axis=\"x\", useOffset=xoffset)\n",
    "plt.ticklabel_format(axis=\"y\", useOffset=yoffset)\n",
    "\n",
    "\n",
    "axi = 2\n",
    "plt.sca(axs[axi])\n",
    "ax = axs[axi]\n",
    "ax.set_aspect(\"equal\")\n",
    "pm = plt.pcolormesh(x_rw, y_rw, np.ma.masked_invalid(rwprec.sum(axis=0)), cmap=listedcmap, norm=norm)\n",
    "wradlib.vis.add_lines(ax, borders, color=linecolor, lw=0.3)\n",
    "plt.grid()\n",
    "plt.xlabel(\"UTM Easting\")#, fontsize=fontsize)\n",
    "plt.ylabel(\"UTM Northing\")#, fontsize=fontsize)\n",
    "#plt.xlim(bbox[0], bbox[1])\n",
    "#plt.ylim(bbox[2], bbox[3])\n",
    "plt.title(\"RW\")#, fontsize=fontsize)\n",
    "for i in gix:\n",
    "    plt.text(gauges.x[i], gauges.y[i], \"%d\" % tmpg.sum()[i],\n",
    "             horizontalalignment='center', verticalalignment='center', \n",
    "             color=\"white\", fontsize=12)\n",
    "for id in tmpdwdg.index:\n",
    "    plt.text(tmpdwdg.loc[id, \"x\"], tmpdwdg.loc[id, \"y\"], \"%d\" % tmpdwd.sum()[id],\n",
    "             horizontalalignment='center', verticalalignment='center', \n",
    "             color=\"orange\", fontsize=12)\n",
    "plt.ticklabel_format(axis=\"x\", useOffset=xoffset)\n",
    "plt.ticklabel_format(axis=\"y\", useOffset=yoffset)\n",
    "\n",
    "\n",
    "axi = 3\n",
    "plt.sca(axs[axi])\n",
    "ax = axs[axi]\n",
    "ax.set_aspect(\"equal\")\n",
    "pm = plt.pcolormesh(xtrg, ytrg, ip, cmap=listedcmap, norm=norm)\n",
    "wradlib.vis.add_lines(ax, borders, color=linecolor, lw=0.3)\n",
    "plt.grid()\n",
    "plt.xlabel(\"UTM Easting\")#, fontsize=fontsize)\n",
    "#plt.ylabel(\"UTM Northing\")\n",
    "#plt.xlim(bbox[0], bbox[1])\n",
    "#plt.ylim(bbox[2], bbox[3])\n",
    "plt.title(\"Interpolation\")#, fontsize=fontsize)\n",
    "for i in gix:\n",
    "    plt.text(gauges.x[i], gauges.y[i], \"%d\" % tmpg.sum()[i],\n",
    "             horizontalalignment='center', verticalalignment='center', \n",
    "             color=\"white\", fontsize=12)\n",
    "for id in tmpdwdg.index:\n",
    "    plt.text(tmpdwdg.loc[id, \"x\"], tmpdwdg.loc[id, \"y\"], \"%d\" % tmpdwd.sum()[id],\n",
    "             horizontalalignment='center', verticalalignment='center', \n",
    "             color=\"orange\", fontsize=12)\n",
    "## Good gages which are in fact bad\n",
    "#bgix = np.where(np.array(gdata.sum()[gix]) < 20.)[0]\n",
    "#for i in gix[bgix]:\n",
    "#    plt.plot(gauges.x[i], gauges.y[i], \"ro\", mfc=\"None\", ms=20, mew=2)\n",
    "plt.ticklabel_format(axis=\"x\", useOffset=xoffset)\n",
    "plt.ticklabel_format(axis=\"y\", useOffset=yoffset)\n",
    "\n",
    "plt.tight_layout()\n",
    "#fig.subplots_adjust(bottom=0.01)\n",
    "cbar_ax = fig.add_axes([0.25, -0.03, 0.6, 0.03])\n",
    "cb = fig.colorbar(pm, cax=cbar_ax, orientation=\"horizontal\", extend=\"max\")\n",
    "cb.set_label(\"mm\")#, fontsize)#=fontsize)\n",
    "cb.ax.tick_params(labelsize=15)\n",
    "\n",
    "plt.savefig(\"docs/events/rainmap_%s.png\" % eventnames[eventix], dpi=300, bbox_inches=\"tight\")\n"
   ]
  },
  {
   "cell_type": "markdown",
   "metadata": {},
   "source": [
    "### Diagnoseplot"
   ]
  },
  {
   "cell_type": "code",
   "execution_count": null,
   "metadata": {},
   "outputs": [],
   "source": [
    "def rmse2plot(x,y, maxval):\n",
    "    plt.text(0.05*maxval, 0.9*maxval, \"RMSE=%.2f mm\" % h.rmse(x, y),\n",
    "             fontsize=12, backgroundcolor=\"white\")"
   ]
  },
  {
   "cell_type": "code",
   "execution_count": null,
   "metadata": {},
   "outputs": [],
   "source": [
    "plt.rc('font', **{'size'   : 14})\n",
    "\n",
    "maxval = np.nanmax(np.array((rw_at_gauge.sum(axis=0).max(), rw_at_dwdgauge.sum(axis=0).max(),\n",
    "                             tmpdwd.sum(axis=0).max(), \n",
    "                             tmpg.sum(axis=0).max(), dx_at_gauge.sum(axis=0).max(), \n",
    "                             dx2_at_gauge.sum(axis=0).max(), dx2_at_dwdgauge.sum(axis=0).max(), \n",
    "                             gosum_all_est.max())))\n",
    "maxval = np.ceil(maxval/10.) * 10.\n",
    "\n",
    "fig, ax = plt.subplots(figsize=(8,8), nrows=2, ncols=2, sharex=True, sharey=True)\n",
    "ax = ax.ravel()\n",
    "\n",
    "#fig.suptitle(eventnames[eventix], fontsize=16)\n",
    "plt.sca(ax[0])\n",
    "ax[0].set_aspect(\"equal\")\n",
    "plt.plot([-10, 200], [-10, 200], color=\"grey\", ms=0, ls=\"--\")\n",
    "plt.plot(np.array(tmpg.sum()), dx_at_gauge.sum(axis=0), \"o\", mfc=\"None\", mec=\"black\", ms=8, label=\"_normal\")\n",
    "plt.plot(np.array(tmpdwd.sum()), dx_at_dwdgauge.sum(axis=0), \"o\", mfc=\"None\", mec=\"tab:orange\", ms=8, label=\"DWD\")\n",
    "#plt.plot(np.array(tmpg.sum())[gix], dx_at_gauge.sum(axis=0)[gix], \"g+\")\n",
    "#plt.plot(np.array(tmpg.sum())[gauges.vegetation], dx_at_gauge.sum(axis=0)[gauges.vegetation], \"go\", mfc=\"None\")\n",
    "plt.plot(np.array(tmpg.sum())[bix], dx_at_gauge.sum(axis=0)[bix], \"o\", mfc=\"None\", mec=\"tab:red\",\n",
    "         markeredgewidth=2, ms=8, label=\"defekt\")\n",
    "plt.xlim(0,maxval)\n",
    "plt.ylim(0,maxval)\n",
    "#plt.xlabel(\"Beobachtung (mm)\")\n",
    "plt.ylabel(\"Schätzung (mm)\")\n",
    "plt.grid()\n",
    "plt.title(\"DX\")\n",
    "plt.legend()\n",
    "#rmse2plot(np.array(tmpg.sum())[gix], dx_at_gauge.sum(axis=0)[gix], maxval)\n",
    "\n",
    "plt.sca(ax[1])\n",
    "ax[1].set_aspect(\"equal\")\n",
    "plt.plot([-10, 200], [-10, 200], color=\"grey\", ms=0, ls=\"--\")\n",
    "plt.plot(np.array(tmpg.sum()), dx2_at_gauge.sum(axis=0), \"o\", mfc=\"None\", mec=\"black\", ms=8)\n",
    "plt.plot(np.array(tmpdwd.sum()), dx2_at_dwdgauge.sum(axis=0), \"o\", mfc=\"None\", mec=\"tab:orange\", ms=8, label=\"DWD\")\n",
    "#plt.plot(np.array(tmpg.sum())[gix], dx2_at_gauge.sum(axis=0)[gix], \"g+\")\n",
    "#plt.plot(np.array(tmpg.sum())[gix][bgix], dx2_at_gauge.sum(axis=0)[gix][bgix], \"ro\", mfc=\"None\")\n",
    "#plt.plot(np.array(tmpg.sum())[gauges.vegetation], dx2_at_gauge.sum(axis=0)[gauges.vegetation], \"go\", mfc=\"None\")\n",
    "plt.plot(np.array(tmpg.sum())[bix], dx2_at_gauge.sum(axis=0)[bix], \"o\", mfc=\"None\", mec=\"tab:red\", ms=8, markeredgewidth=2)\n",
    "plt.xlim(0,maxval)\n",
    "plt.ylim(0,maxval)\n",
    "#plt.xlabel(\"Beobachtung (mm)\")\n",
    "#plt.ylabel(\"Schätzung (mm)\")\n",
    "plt.grid()\n",
    "plt.title(\"DX korrigiert\")\n",
    "#rmse2plot(np.array(tmpg.sum())[gix], dx2_at_gauge.sum(axis=0)[gix], maxval)\n",
    "\n",
    "plt.sca(ax[2])\n",
    "ax[2].set_aspect(\"equal\")\n",
    "plt.plot([-10, 200], [-10, 200], color=\"grey\", ms=0, ls=\"--\")\n",
    "plt.plot(np.array(tmpg.sum()), rw_at_gauge.sum(axis=0), \"o\", mfc=\"None\", mec=\"black\", ms=8)\n",
    "plt.plot(np.array(tmpdwd.sum()), rw_at_dwdgauge.sum(axis=0), \"o\", mfc=\"None\", mec=\"tab:orange\", ms=8)\n",
    "plt.plot(np.array(tmpg.sum())[bix], rw_at_gauge.sum(axis=0)[bix], \"o\", mfc=\"None\", mec=\"tab:red\", ms=8, markeredgewidth=2)\n",
    "#plt.plot(np.array(tmpg.sum())[gix], rw_at_gauge.sum(axis=0)[gix], \"g+\")\n",
    "#plt.plot(np.array(tmpg.sum())[gix][bgix], rw_at_gauge.sum(axis=0)[gix][bgix], \"ro\", mfc=\"None\")\n",
    "plt.xlim(0,maxval)\n",
    "plt.ylim(0,maxval)\n",
    "plt.xlabel(\"Beobachtung (mm)\")\n",
    "plt.ylabel(\"Schätzung (mm)\")\n",
    "plt.grid()\n",
    "plt.title(\"RW\")\n",
    "#rmse2plot(np.array(tmpg.sum())[gix], rw_at_gauge.sum(axis=0)[gix], maxval)\n",
    "\n",
    "plt.sca(ax[3])\n",
    "ax[3].set_aspect(\"equal\")\n",
    "plt.plot([-10, 200], [-10, 200], color=\"grey\", ms=0, ls=\"--\")\n",
    "plt.plot(gosum_all_obs, gosum_all_est, \"o\", mfc=\"None\", mec=\"black\", ms=8)\n",
    "plt.plot(np.array(tmpg.sum())[bix], gosum_all_est[bix], \"o\", mfc=\"None\", mec=\"tab:red\", ms=8, markeredgewidth=2)\n",
    "#plt.plot(gosum_all_obs[gix], gosum_all_est[gix], \"g+\")\n",
    "#plt.plot(gosum_gix_obs, gosum_gix_est, \"g+\")\n",
    "#plt.plot(gosum_gix_obs[bgix], gosum_gix_est[bgix], \"ro\", mfc=\"none\")\n",
    "plt.xlim(0,maxval)\n",
    "plt.ylim(0,maxval)\n",
    "plt.xlabel(\"Beobachtung (mm)\")\n",
    "#plt.ylabel(\"Schätzung (mm)\")\n",
    "plt.grid()\n",
    "plt.title(\"Interpolation (X-Valid.)\")\n",
    "#rmse2plot(gosum_gix_obs, gosum_gix_est, maxval)\n",
    "\n",
    "plt.tight_layout()\n",
    "\n",
    "plt.savefig(\"docs/events/scatter_%s.png\" % eventnames[eventix], dpi=300, bbox_inches=\"tight\")"
   ]
  },
  {
   "cell_type": "markdown",
   "metadata": {},
   "source": [
    "### Kumulativer Niederschlag über die Zeit"
   ]
  },
  {
   "cell_type": "code",
   "execution_count": null,
   "metadata": {},
   "outputs": [],
   "source": [
    "# RW\n",
    "dfrw = pd.DataFrame(rw_at_gauge, index=dtimes_rw)\n",
    "dfrw.columns = tmpg.columns\n",
    "#dfrw = dfrw.cumsum()\n",
    "# DX\n",
    "dfdx = pd.DataFrame(dx_at_gauge, index=dtimes)\n",
    "dfdx.columns = tmpg.columns\n",
    "#dfdx = dfdx.cumsum()\n",
    "# Attenutation corrected\n",
    "dfdx2 = pd.DataFrame(dx2_at_gauge, index=dtimes)\n",
    "dfdx2.columns = tmpg.columns\n",
    "#dfdx2= dfdx2.cumsum()\n",
    "# Gauge interpolation\n",
    "dfgauges = pd.DataFrame(go_all_5min, index=tmpg.index)\n",
    "dfgauges.columns = tmpg.columns\n",
    "#dfgauges = dfgauges.cumsum()"
   ]
  },
  {
   "cell_type": "code",
   "execution_count": null,
   "metadata": {},
   "outputs": [],
   "source": [
    "tolerance = 0.99\n",
    "best = []\n",
    "for i, id in enumerate(tmpg.columns):\n",
    "    rmse_rad = h.rmse(tmpg.cumsum().loc[starts[eventix]:ends[eventix],id], \n",
    "                      dfdx2.cumsum().loc[starts[eventix]:ends[eventix],id])\n",
    "    rmse_gauge = h.rmse(tmpg.cumsum().loc[starts[eventix]:ends[eventix],id], \n",
    "                        dfgauges.cumsum().loc[starts[eventix]:ends[eventix],id])\n",
    "    if rmse_rad < tolerance*rmse_gauge:\n",
    "        best.append(\"rad\")\n",
    "    elif rmse_gauge < tolerance*rmse_rad:\n",
    "        best.append(\"gauge\")\n",
    "    else:\n",
    "        best.append(\"\")\n",
    "#best[16] = \"error\"\n",
    "#best = np.array(best)\n",
    "#print(\"Radar superior or equivalent in %i cases\" % len(np.where(best==\"rad\")[0]) )"
   ]
  },
  {
   "cell_type": "code",
   "execution_count": null,
   "metadata": {
    "scrolled": false
   },
   "outputs": [],
   "source": [
    "plt.rc('font', **{'size'   : 12})\n",
    "fig, ax = plt.subplots(nrows=10, ncols=5, figsize=(10,20), sharex=True)#, constrained_layout=True)\n",
    "#fig.suptitle(eventnames[eventix], fontsize=16)\n",
    "ax = ax.ravel()\n",
    "s = starts[eventix]\n",
    "e = ends[eventix]\n",
    "for i, id in enumerate(tmpg.columns):\n",
    "    plt.sca(ax[i])\n",
    "    #tmp = dfrw.cumsum().loc[s:e,id]\n",
    "    #plt.plot(tmp.index, tmp, label=\"RW (nur stündl.)\", color=\"grey\", lw=2)\n",
    "    tmp = tmpg.cumsum().loc[s:e,id]\n",
    "    plt.plot(tmp.index, tmp, label=\"R.schreiber\", color=\"black\", lw=2)\n",
    "    tmp = dfdx.cumsum().loc[s:e,id]\n",
    "    plt.plot(tmp.index, tmp, label=\"DX\", color=\"darkgreen\", lw=2)\n",
    "    tmp = dfdx2.cumsum().loc[s:e,id]\n",
    "    plt.plot(tmp.index, tmp, label=\"DX korr.\", color=\"darkgreen\", lw=2, ls=\"dashed\")\n",
    "    tmp = dfgauges.cumsum().loc[s:e,id]\n",
    "    plt.plot(tmp.index, tmp, label=\"Interp.\", color=\"grey\", lw=2, ls=\"dotted\")\n",
    "    plt.grid()\n",
    "    plt.xlabel(\"\")\n",
    "    ax[i].xaxis.set_major_formatter(mdates.DateFormatter('%H'))\n",
    "    plt.xticks(rotation=70)\n",
    "    if i==0:\n",
    "        plt.legend(fontsize=9)\n",
    "    if id in gauges.index[gauges[eventnames[eventix]]]:\n",
    "        ax[i].set_facecolor('mistyrose')\n",
    "        plt.title(id+\" defekt!\")\n",
    "    else:\n",
    "        plt.title(id)\n",
    "    #plt.ylabel(\"Kumulative Regenhöhe (mm)\")\n",
    "    #if best[pi]==\"rad\":\n",
    "    #    plt.text(tmpg.index[1], 50, \"Radar-QPE ist überlegen\", color=\"darkgreen\", fontsize=11)\n",
    "    #if best[pi]==\"gauge\":\n",
    "    #    plt.text(tmpg.index[1], 50, \"Interp. ist überlegen\", color=\"blue\", fontsize=11)\n",
    "    #if best[pi]==\"error\":\n",
    "    #    plt.text(tmpg.index[1], 50, \"Regenschreiber defekt!\", color=\"red\", fontsize=11)\n",
    "    #if pi==24:\n",
    "    #    #plt.legend(bbox_to_anchor=(1.05, 1), loc=2, borderaxespad=0.)\n",
    "    #    plt.legend()\n",
    "plt.tight_layout()\n",
    "\n",
    "plt.savefig(\"docs/events/cumsumproducts_%s.png\" % eventnames[eventix], dpi=300)"
   ]
  },
  {
   "cell_type": "code",
   "execution_count": null,
   "metadata": {},
   "outputs": [],
   "source": []
  },
  {
   "cell_type": "code",
   "execution_count": null,
   "metadata": {},
   "outputs": [],
   "source": []
  },
  {
   "cell_type": "code",
   "execution_count": null,
   "metadata": {},
   "outputs": [],
   "source": [
    "# plt.rc('font', **{'size'   : 12})\n",
    "# fig, ax = plt.subplots(nrows=10, ncols=5, figsize=(10,20))#, constrained_layout=True)\n",
    "# #fig.suptitle(eventnames[eventix], fontsize=16)\n",
    "# ax = ax.ravel()\n",
    "# s = starts[eventix]\n",
    "# e = ends[eventix]\n",
    "# for i, id in enumerate(tmpg.columns):\n",
    "#     #if i>24:\n",
    "#     #    break\n",
    "#     #ax = plt.subplot(5,5,pi+1)\n",
    "#     ax[i].set_aspect(\"equal\")\n",
    "#     plt.sca(ax[i])\n",
    "#     tmp1 = tmpg.cumsum().loc[s:e,id]\n",
    "#     tmp2 = dfdx.cumsum().loc[s:e,id]\n",
    "#     tmp3 = dfdx2.cumsum().loc[s:e,id]\n",
    "#     plt.plot(tmp1, tmp2, label=\"vs. DX\", color=\"black\", lw=2)\n",
    "#     plt.plot(tmp1, tmp3, label=\"vs. DX2\", color=\"black\", lw=2, ls=\"dashed\")\n",
    "#     plt.plot([0,100], [0,100], color=\"grey\", ls=\"dashed\")\n",
    "#     plt.grid()\n",
    "#     plt.title(id)\n",
    "#     plt.xlabel(\"\")\n",
    "#     maxval = np.nanmax(np.concatenate((tmp1, tmp2, tmp3)))\n",
    "#     plt.xlim(0,maxval)\n",
    "#     plt.ylim(0,maxval)\n",
    "#     #ax[i].xaxis.set_major_formatter(mdates.DateFormatter('%H:%M'))\n",
    "#     plt.xticks(rotation=20)\n",
    "#     #plt.ylabel(\"Kumulative Regenhöhe (mm)\")\n",
    "#     #if best[pi]==\"rad\":\n",
    "#     #    plt.text(tmpg.index[1], 50, \"Radar-QPE ist überlegen\", color=\"darkgreen\", fontsize=11)\n",
    "#     #if best[pi]==\"gauge\":\n",
    "#     #    plt.text(tmpg.index[1], 50, \"Interp. ist überlegen\", color=\"blue\", fontsize=11)\n",
    "#     #if best[pi]==\"error\":\n",
    "#     #    plt.text(tmpg.index[1], 50, \"Regenschreiber defekt!\", color=\"red\", fontsize=11)\n",
    "#     #if pi==24:\n",
    "#     #    #plt.legend(bbox_to_anchor=(1.05, 1), loc=2, borderaxespad=0.)\n",
    "#     #    plt.legend()\n",
    "# plt.tight_layout()\n",
    "\n",
    "# plt.savefig(\"docs/events/cumscums_%s.png\" % eventnames[eventix], dpi=300)"
   ]
  },
  {
   "cell_type": "code",
   "execution_count": null,
   "metadata": {},
   "outputs": [],
   "source": []
  }
 ],
 "metadata": {
  "kernelspec": {
   "display_name": "Python 3",
   "language": "python",
   "name": "python3"
  },
  "language_info": {
   "codemirror_mode": {
    "name": "ipython",
    "version": 3
   },
   "file_extension": ".py",
   "mimetype": "text/x-python",
   "name": "python",
   "nbconvert_exporter": "python",
   "pygments_lexer": "ipython3",
   "version": "3.7.3"
  },
  "toc": {
   "colors": {
    "hover_highlight": "#DAA520",
    "navigate_num": "#000000",
    "navigate_text": "#333333",
    "running_highlight": "#FF0000",
    "selected_highlight": "#FFD700",
    "sidebar_border": "#EEEEEE",
    "wrapper_background": "#FFFFFF"
   },
   "moveMenuLeft": true,
   "nav_menu": {
    "height": "12px",
    "width": "252px"
   },
   "navigate_menu": true,
   "number_sections": false,
   "sideBar": true,
   "threshold": 4,
   "toc_cell": false,
   "toc_section_display": "block",
   "toc_window_display": false,
   "widenNotebook": false
  }
 },
 "nbformat": 4,
 "nbformat_minor": 2
}
